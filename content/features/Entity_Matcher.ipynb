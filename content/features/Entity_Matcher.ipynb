{
 "cells": [
  {
   "cell_type": "markdown",
   "metadata": {
    "toc": true
   },
   "source": [
    "<h1>Table of Contents<span class=\"tocSkip\"></span></h1>\n",
    "<div class=\"toc\"><ul class=\"toc-item\"><li><span><a href=\"#Test\" data-toc-modified-id=\"Test-1\"><span class=\"toc-item-num\">1&nbsp;&nbsp;</span>Test</a></span></li><li><span><a href=\"#Displacy\" data-toc-modified-id=\"Displacy-2\"><span class=\"toc-item-num\">2&nbsp;&nbsp;</span>Displacy</a></span></li></ul></div>"
   ]
  },
  {
   "cell_type": "code",
   "execution_count": 1,
   "metadata": {},
   "outputs": [],
   "source": [
    "from __future__ import unicode_literals\n",
    "\n",
    "from collections import defaultdict\n",
    "import srsly\n",
    "\n",
    "from spacy.errors import Errors\n",
    "from spacy.compat import basestring_\n",
    "from spacy.util import ensure_path\n",
    "from spacy.tokens import Span\n",
    "from spacy.matcher import Matcher, PhraseMatcher\n",
    "\n",
    "from spacy import displacy\n",
    "\n",
    "class EntityMatcher(object):\n",
    "    name = \"entity_matcher\"\n",
    "\n",
    "    def __init__(self, nlp,**cfg):\n",
    "        self.nlp = nlp\n",
    "        self.overwrite = cfg.get(\"overwrite_ents\", False)\n",
    "        self.token_patterns = defaultdict(list)\n",
    "        self.phrase_patterns = defaultdict(list)\n",
    "        self.matcher = Matcher(nlp.vocab)\n",
    "        self.phrase_matcher = PhraseMatcher(nlp.vocab)\n",
    "\n",
    "        patterns = cfg.get(\"patterns\")\n",
    "        if patterns is not None:\n",
    "            self.add_patterns(patterns)\n",
    "            \n",
    "            \n",
    "    def __len__(self):\n",
    "        \"\"\"The number of all patterns added to the entity ruler.\"\"\"\n",
    "        n_token_patterns = sum(len(p) for p in self.token_patterns.values())\n",
    "        n_phrase_patterns = sum(len(p) for p in self.phrase_patterns.values())\n",
    "        return n_token_patterns + n_phrase_patterns\n",
    "    \n",
    "    def __contains__(self, label):\n",
    "        \"\"\"Whether a label is present in the patterns.\"\"\"\n",
    "        return label in self.token_patterns or label in self.phrase_patterns\n",
    "\n",
    "    def __call__(self, doc):\n",
    "        \"\"\"Find matches in document and add them as entities.\n",
    "\n",
    "        doc (Doc): The Doc object in the pipeline.\n",
    "        RETURNS (Doc): The Doc with added entities, if available.\n",
    "\n",
    "        DOCS: https://spacy.io/api/entityruler#call\n",
    "        \"\"\"\n",
    "        \n",
    "        matches = list(self.matcher(doc)) + list(self.phrase_matcher(doc))\n",
    "        \n",
    "        matches = set(\n",
    "            [(m_id, start, end) for m_id, start, end in matches if start != end]\n",
    "        )\n",
    "        get_sort_key = lambda m: (m[2] - m[1], m[1])\n",
    "        matches = sorted(matches, key=get_sort_key, reverse=False)\n",
    "        \n",
    "        \n",
    "        entities = list(doc.ents)\n",
    "        new_entities = []\n",
    "        seen_tokens = set()\n",
    "        for match_id, start, end in matches:\n",
    "            \n",
    "            if any(t.ent_type for t in doc[start:end]) and not self.overwrite:\n",
    "                continue\n",
    "            \n",
    "            if start not in seen_tokens and end - 1 not in seen_tokens:\n",
    "\n",
    "                new_entities.append(Span(doc, start, end, label=match_id))\n",
    "\n",
    "                entities = [e for e in entities if not (e.start < end and e.end > start)]\n",
    "                seen_tokens.update(range(start, end))\n",
    "                \n",
    "        doc.ents = entities + new_entities\n",
    "\n",
    "        return doc\n",
    "\n",
    "    @property\n",
    "    def labels(self):\n",
    "        \"\"\"All labels present in the match patterns.\n",
    "\n",
    "        RETURNS (set): The string labels.\n",
    "\n",
    "        DOCS: https://spacy.io/api/entityruler#labels\n",
    "        \"\"\"\n",
    "        all_labels = set(self.token_patterns.keys())\n",
    "        all_labels.update(self.phrase_patterns.keys())\n",
    "        return tuple(all_labels)\n",
    "\n",
    "    @property\n",
    "    def patterns(self):\n",
    "        \"\"\"Get all patterns that were added to the entity ruler.\n",
    "\n",
    "        RETURNS (list): The original patterns, one dictionary per pattern.\n",
    "\n",
    "        DOCS: https://spacy.io/api/entityruler#patterns\n",
    "        \"\"\"\n",
    "        all_patterns = []\n",
    "        for label, patterns in self.token_patterns.items():\n",
    "            for pattern in patterns:\n",
    "                all_patterns.append({\"label\": label, \"pattern\": pattern})\n",
    "        for label, patterns in self.phrase_patterns.items():\n",
    "            for pattern in patterns:\n",
    "                all_patterns.append({\"label\": label, \"pattern\": pattern.text})\n",
    "        return all_patterns\n",
    "\n",
    "    def add_patterns(self, patterns):\n",
    "        \"\"\"Add patterns to the entitiy ruler. A pattern can either be a token\n",
    "        pattern (list of dicts) or a phrase pattern (string). For example:\n",
    "        {'label': 'ORG', 'pattern': 'Apple'}\n",
    "        {'label': 'GPE', 'pattern': [{'lower': 'san'}, {'lower': 'francisco'}]}\n",
    "\n",
    "        patterns (list): The patterns to add.\n",
    "\n",
    "        DOCS: https://spacy.io/api/entityruler#add_patterns\n",
    "        \"\"\"\n",
    "        for entry in patterns:\n",
    "            label = entry[\"label\"]\n",
    "            pattern = entry[\"pattern\"]\n",
    "            on_match = entry['on_match']\n",
    "            \n",
    "            if on_match == 'None':\n",
    "                on_matcher = None\n",
    "            else:\n",
    "\n",
    "                print(label)\n",
    "                def on_matcher(matcher, doc, id, matches):\n",
    "                    match_id, start, end = matches[-1]\n",
    "                    print('This is the on match[0]:')\n",
    "                    print(on_match[0])\n",
    "                    for callback in on_match:\n",
    "                        print('This is the callback:')\n",
    "                        print(callback)\n",
    "                        if 'TRUNCR' in callback.keys():\n",
    "                            end = end - callback['TRUNCR']\n",
    "                            matches[id] = (match_id, start, end)\n",
    "\n",
    "                    \n",
    "                        if 'TRUNCL' in callback.keys():\n",
    "                            start = start + callback['TRUNCL']\n",
    "                            matches[id] = (match_id, start, end)\n",
    "                            \n",
    "#                    matches.append(('sub-CLUE',start - callback['TRUNCL'],start))\n",
    "                    print(matches)\n",
    "                        \n",
    "\n",
    "            if isinstance(pattern, basestring_):\n",
    "                self.phrase_patterns[label].append(self.nlp(pattern))\n",
    "            elif isinstance(pattern, list):\n",
    "                self.token_patterns[label].append((on_matcher,pattern))\n",
    "\n",
    "            else:\n",
    "                raise ValueError(Errors.E097.format(pattern=pattern))\n",
    "                \n",
    "\n",
    "\n",
    "        for label, match in self.token_patterns.items():\n",
    "            for on_matcher,pattern in match:\n",
    "                self.matcher.add(label, on_matcher, pattern)\n",
    "        for label, patterns in self.phrase_patterns.items():\n",
    "            self.phrase_matcher.add(label, None, *patterns)\n",
    "\n",
    "    def from_bytes(self, patterns_bytes, **kwargs):\n",
    "        \"\"\"Load the entity ruler from a bytestring.\n",
    "\n",
    "        patterns_bytes (bytes): The bytestring to load.\n",
    "        **kwargs: Other config paramters, mostly for consistency.\n",
    "        RETURNS (EntityRuler): The loaded entity ruler.\n",
    "\n",
    "        DOCS: https://spacy.io/api/entityruler#from_bytes\n",
    "        \"\"\"\n",
    "        patterns = srsly.msgpack_loads(patterns_bytes)\n",
    "        self.add_patterns(patterns)\n",
    "        return self\n",
    "\n",
    "    def to_bytes(self, **kwargs):\n",
    "        \"\"\"Serialize the entity ruler patterns to a bytestring.\n",
    "\n",
    "        RETURNS (bytes): The serialized patterns.\n",
    "\n",
    "        DOCS: https://spacy.io/api/entityruler#to_bytes\n",
    "        \"\"\"\n",
    "        return srsly.msgpack_dumps(self.patterns)\n",
    "\n",
    "    def from_disk(self, path, **kwargs):\n",
    "        \"\"\"Load the entity ruler from a file. Expects a file containing\n",
    "        newline-delimited JSON (JSONL) with one entry per line.\n",
    "\n",
    "        path (unicode / Path): The JSONL file to load.\n",
    "        **kwargs: Other config paramters, mostly for consistency.\n",
    "        RETURNS (EntityRuler): The loaded entity ruler.\n",
    "\n",
    "        DOCS: https://spacy.io/api/entityruler#from_disk\n",
    "        \"\"\"\n",
    "        path = ensure_path(path)\n",
    "        path = path.with_suffix(\".jsonl\")\n",
    "        patterns = srsly.read_jsonl(path)\n",
    "        self.add_patterns(patterns)\n",
    "        return self\n",
    "\n",
    "    def to_disk(self, path, **kwargs):\n",
    "        \"\"\"Save the entity ruler patterns to a directory. The patterns will be\n",
    "        saved as newline-delimited JSON (JSONL).\n",
    "\n",
    "        path (unicode / Path): The JSONL file to load.\n",
    "        **kwargs: Other config paramters, mostly for consistency.\n",
    "        RETURNS (EntityRuler): The loaded entity ruler.\n",
    "\n",
    "        DOCS: https://spacy.io/api/entityruler#to_disk\n",
    "        \"\"\"\n",
    "        path = ensure_path(path)\n",
    "        path = path.with_suffix(\".jsonl\")\n",
    "        srsly.write_jsonl(path, self.patterns)\n",
    "\n",
    "        \n",
    "def render_doc(doc, entity = False):\n",
    "    '''This function render the text of the documents with the entity signed'''\n",
    "    \n",
    "    out = displacy.parse_ents(doc)\n",
    "    print(out)\n",
    "    adder = 0\n",
    "    \n",
    "    for i,ent in enumerate(out['ents']):\n",
    "                \n",
    "        #do not add the first entity match\n",
    "        out['ents'][i]['start'] += i*adder\n",
    "        out['ents'][i]['end'] += i*adder\n",
    "        \n",
    "        if entity == False:\n",
    "            adder = 4\n",
    "            if ent['label'] == 'sub-CLUE':\n",
    "                out['text'] = out['text'][:ent['start']] + '_*' + out['text'][ent['start']:ent['end']] + '*_' + out['text'][ent['end']:]\n",
    "            else:\n",
    "                out['text'] = out['text'][:ent['start']] + '**' + out['text'][ent['start']:ent['end']] + '**' + out['text'][ent['end']:]\n",
    "            \n",
    "            \n",
    "        else:\n",
    "            adder = len(ent['label']) + 6\n",
    "            if ent['label'] == 'sub-CLUE':\n",
    "                out['text'] = out['text'][:ent['start']] + '_*' + out['text'][ent['start']:ent['end']] + '*_{' + ent['label'] + '}' + out['text'][ent['end']:]\n",
    "            else:\n",
    "                out['text'] = out['text'][:ent['start']] + '**' + out['text'][ent['start']:ent['end']] + '**{' + ent['label'] + '}' + out['text'][ent['end']:]\n",
    "            \n",
    "        \n",
    "    return out['text']"
   ]
  },
  {
   "cell_type": "markdown",
   "metadata": {},
   "source": [
    "### Test"
   ]
  },
  {
   "cell_type": "code",
   "execution_count": 55,
   "metadata": {},
   "outputs": [
    {
     "name": "stdout",
     "output_type": "stream",
     "text": [
      "CLUE\n",
      "{'text': 'Positive relationship is the most important soft skill of the world', 'ents': [], 'title': None, 'settings': {'lang': 'en', 'direction': 'ltr'}}\n"
     ]
    },
    {
     "name": "stderr",
     "output_type": "stream",
     "text": [
      "/Users/nicolamelluso/anaconda3/lib/python3.6/runpy.py:193: UserWarning: [W006] No entities to visualize found in Doc object. If this is surprising to you, make sure the Doc was processed using a model that supports named entity recognition, and check the `doc.ents` property manually if necessary.\n",
      "  \"__main__\", mod_spec)\n"
     ]
    },
    {
     "data": {
      "text/plain": [
       "'Positive relationship is the most important soft skill of the world'"
      ]
     },
     "execution_count": 55,
     "metadata": {},
     "output_type": "execute_result"
    }
   ],
   "source": [
    "import spacy\n",
    "from spacy.lang.en import English\n",
    "\n",
    "nlp = English()\n",
    "nlp = spacy.load(\"en_core_web_sm\")\n",
    "\n",
    "\n",
    "entity_matcher = EntityMatcher(nlp).from_disk(\"/Users/nicolamelluso/Data_Science/RED/RED_Toolkit/redtoolkit/textanalysis/extractors/resources/soft_skill.jsonl\")\n",
    "nlp.add_pipe(entity_matcher)\n",
    "\n",
    "doc = nlp('Decision Making is an important soft skill as the problem solving.')\n",
    "doc = nlp('Positive relationship is the most important soft skill of the world')\n",
    "doc.ents\n",
    "render_doc(doc)"
   ]
  },
  {
   "cell_type": "code",
   "execution_count": 4,
   "metadata": {},
   "outputs": [],
   "source": [
    "! open /Users/nicolamelluso/Data_Science/RED/RED_Toolkit/redtoolkit/textanalysis/extractors/resources/"
   ]
  },
  {
   "cell_type": "code",
   "execution_count": 26,
   "metadata": {},
   "outputs": [
    {
     "data": {
      "text/plain": [
       "(Decision Making, problem solving, be empathetic)"
      ]
     },
     "execution_count": 26,
     "metadata": {},
     "output_type": "execute_result"
    }
   ],
   "source": [
    "doc.ents"
   ]
  },
  {
   "cell_type": "markdown",
   "metadata": {},
   "source": [
    "### Displacy"
   ]
  },
  {
   "cell_type": "markdown",
   "metadata": {},
   "source": [
    "Add in the json the choise to have the _clue_ and modify the class in order to manage the clue properly"
   ]
  },
  {
   "cell_type": "code",
   "execution_count": 46,
   "metadata": {},
   "outputs": [
    {
     "data": {
      "text/html": [
       "<div class=\"entities\" style=\"line-height: 2.5; direction: ltr\">Ability to \n",
       "<mark class=\"entity\" style=\"background: #ddd; padding: 0.45em 0.6em; margin: 0 0.25em; line-height: 1; border-radius: 0.35em; box-decoration-break: clone; -webkit-box-decoration-break: clone\">\n",
       "    solve problems\n",
       "    <span style=\"font-size: 0.8em; font-weight: bold; line-height: 1; border-radius: 0.35em; text-transform: uppercase; vertical-align: middle; margin-left: 0.5rem\">SOFT SKILL 3</span>\n",
       "</mark>\n",
       "</div>\n",
       "\n",
       "<div class=\"entities\" style=\"line-height: 2.5; direction: ltr\">\n",
       "<mark class=\"entity\" style=\"background: #ddd; padding: 0.45em 0.6em; margin: 0 0.25em; line-height: 1; border-radius: 0.35em; box-decoration-break: clone; -webkit-box-decoration-break: clone\">\n",
       "    Making decision\n",
       "    <span style=\"font-size: 0.8em; font-weight: bold; line-height: 1; border-radius: 0.35em; text-transform: uppercase; vertical-align: middle; margin-left: 0.5rem\">SOFT SKILL 2</span>\n",
       "</mark>\n",
       " is a soft skill</div>"
      ],
      "text/plain": [
       "<IPython.core.display.HTML object>"
      ]
     },
     "metadata": {},
     "output_type": "display_data"
    }
   ],
   "source": [
    "from spacy import displacy\n",
    "from IPython.core.display import display, HTML\n",
    "\n",
    "colors = {\"CLUE\": \"linear-gradient(90deg, #aa9cfc, #fc9ce7)\"}\n",
    "options = {\"ents\": [\"CLUE\",'SOFT SKILL','sub-CLUE'], \"colors\": colors}\n",
    "\n",
    "#doc = nlp('Decision Making is an important soft skill as the problem solving. The ability to be empathetic and the user rotates the tool.')\n",
    "#doc2 = nlp('Making decision is a soft skill')\n",
    "\n",
    "html = displacy.render([doc,doc2], style=\"ent\")#, options=options)\n",
    "display(HTML(html))\n",
    "\n",
    "Html_file= open(\"filename.md\",\"w\")\n",
    "Html_file.write(html)\n",
    "Html_file.close()\n"
   ]
  },
  {
   "cell_type": "code",
   "execution_count": 54,
   "metadata": {},
   "outputs": [
    {
     "data": {
      "text/plain": [
       "[('Positive', 'ADJ', 'amod'),\n",
       " ('relationship', 'NOUN', 'nsubj'),\n",
       " ('is', 'VERB', 'ROOT'),\n",
       " ('the', 'DET', 'det'),\n",
       " ('most', 'ADV', 'advmod'),\n",
       " ('important', 'ADJ', 'amod'),\n",
       " ('soft', 'ADJ', 'amod'),\n",
       " ('skill', 'NOUN', 'attr'),\n",
       " ('of', 'ADP', 'prep'),\n",
       " ('the', 'DET', 'det'),\n",
       " ('world', 'NOUN', 'pobj')]"
      ]
     },
     "execution_count": 54,
     "metadata": {},
     "output_type": "execute_result"
    }
   ],
   "source": [
    "[(token.text, token.pos_,token.dep_) for token in doc]"
   ]
  },
  {
   "cell_type": "code",
   "execution_count": 103,
   "metadata": {},
   "outputs": [
    {
     "name": "stdout",
     "output_type": "stream",
     "text": [
      "{'text': 'Decision Making is an important soft skill as the problem solving. The ability to be empathetic. Data science could be defined as a science', 'ents': [{'start': 0, 'end': 15, 'label': 'ORG'}, {'start': 50, 'end': 65, 'label': 'SOFT SKILL'}, {'start': 71, 'end': 81, 'label': 'sub-CLUE'}, {'start': 82, 'end': 95, 'label': 'CLUE'}], 'title': None, 'settings': {'lang': 'en', 'direction': 'ltr'}}\n"
     ]
    }
   ],
   "source": [
    "import pypandoc\n",
    "\n",
    "with open('somefile.md', 'w') as f:\n",
    "    f.write ('col \\n')\n",
    "    f.write ('-------- \\n')\n",
    "    f.write(render_doc(doc))\n",
    "output = pypandoc.convert_file('somefile.md', 'docx', outputfile=\"somefile.docx\")\n",
    "    \n"
   ]
  },
  {
   "cell_type": "code",
   "execution_count": 62,
   "metadata": {},
   "outputs": [
    {
     "data": {
      "text/plain": [
       "[{'label': 'SOFT SKILL 1',\n",
       "  'on_match': 'None',\n",
       "  'pattern': [{'LEMMA': 'decision'}, {'OP': '*'}, {'LEMMA': 'make'}]},\n",
       " {'label': 'SOFT SKILL 2',\n",
       "  'on_match': 'None',\n",
       "  'pattern': [{'LEMMA': 'make'}, {'OP': '*'}, {'LEMMA': 'decision'}]},\n",
       " {'label': 'SOFT SKILL 3',\n",
       "  'on_match': 'None',\n",
       "  'pattern': [{'LEMMA': 'solve'}, {'OP': '*'}, {'DEP': 'dobj'}]},\n",
       " {'label': 'SOFT SKILL 4',\n",
       "  'on_match': 'None',\n",
       "  'pattern': [{'LEMMA': 'problem'}, {'OP': '*'}, {'LEMMA': 'solve'}]},\n",
       " {'label': 'SOFT SKILL 5',\n",
       "  'on_match': 'None',\n",
       "  'pattern': [{'TEXT': {'REGEX': 'judge'}}]},\n",
       " {'label': 'SOFT SKILL 6',\n",
       "  'on_match': 'None',\n",
       "  'pattern': [{'TEXT': {'REGEX': 'originality'}}]},\n",
       " {'label': 'SOFT SKILL 7',\n",
       "  'on_match': 'None',\n",
       "  'pattern': [{'LEMMA': 'active'}, {'OP': '*'}, {'TEXT': {'REGEX': 'ing$'}}]},\n",
       " {'label': 'SOFT SKILL 8',\n",
       "  'on_match': 'None',\n",
       "  'pattern': [{'TEXT': {'REGEX': 'learn'}},\n",
       "   {'TEXT': {'REGEX': '.*?'}, 'IS_LOWER': True},\n",
       "   {'TEXT': {'REGEX': 'active'}}]},\n",
       " {'label': 'SOFT SKILL 9',\n",
       "  'on_match': 'None',\n",
       "  'pattern': [{'POS': 'ADJ'}, {'TEXT': {'REGEX': 'think|thinking'}}]},\n",
       " {'label': 'SOFT SKILL 10',\n",
       "  'on_match': 'None',\n",
       "  'pattern': [{'POS': {'REGEX': 'ADJ|NOUN|VERB'}},\n",
       "   {'LEMMA': 'comprehension'}]},\n",
       " {'label': 'SOFT SKILL 11',\n",
       "  'on_match': 'None',\n",
       "  'pattern': [{'POS': 'ADJ', 'OP': '?'}, {'LOWER': 'reasoning'}]},\n",
       " {'label': 'SOFT SKILL 12',\n",
       "  'on_match': 'None',\n",
       "  'pattern': [{'LEMMA': {'IN': ['write', 'oral', 'read']}},\n",
       "   {'LEMMA': 'expression'}]},\n",
       " {'label': 'SOFT SKILL 13',\n",
       "  'on_match': 'None',\n",
       "  'pattern': [{'LEMMA': 'cope'},\n",
       "   {'OP': '*'},\n",
       "   {'POS': 'NOUN'},\n",
       "   {'LOWER': 'and', 'OP': '?'},\n",
       "   {'POS': 'NOUN', 'OP': '?'}]},\n",
       " {'label': 'SOFT SKILL 14',\n",
       "  'on_match': 'None',\n",
       "  'pattern': [{'LEMMA': 'team', 'DEP': 'compound'},\n",
       "   {'TEXT': {'REGEX': '.*?'}, 'OP': '?'},\n",
       "   {'DEP': 'conj'}]},\n",
       " {'label': 'SOFT SKILL 15',\n",
       "  'on_match': 'None',\n",
       "  'pattern': [{'DEP': 'conj'},\n",
       "   {'TEXT': {'REGEX': '.*?'}, 'OP': '?'},\n",
       "   {'LEMMA': 'team', 'DEP': 'dobj'}]},\n",
       " {'label': 'SOFT SKILL 16',\n",
       "  'on_match': 'None',\n",
       "  'pattern': [{'LEMMA': 'work'}, {'POS': 'ADV'}]},\n",
       " {'label': 'SOFT SKILL 17',\n",
       "  'on_match': 'None',\n",
       "  'pattern': [{'LEMMA': 'work'}, {'OP': '*'}, {'DEP': 'pobj'}]},\n",
       " {'label': 'SOFT SKILL 18',\n",
       "  'on_match': 'None',\n",
       "  'pattern': [{'DEP': {'REGEX': 'amod|compound'}},\n",
       "   {'OP': '*'},\n",
       "   {'LEMMA': {'REGEX': 'think|thinking'}}]},\n",
       " {'label': 'SOFT SKILL 19',\n",
       "  'on_match': 'None',\n",
       "  'pattern': [{'TAG': {'REGEX': 'VB'}},\n",
       "   {'OP': '*'},\n",
       "   {'LEMMA': {'REGEX': ' relation'}}]},\n",
       " {'label': 'SOFT SKILL 20',\n",
       "  'on_match': 'None',\n",
       "  'pattern': [{'DEP': 'amod'}, {'LEMMA': {'REGEX': ' relation'}}]},\n",
       " {'label': 'SOFT SKILL 21',\n",
       "  'on_match': 'None',\n",
       "  'pattern': [{'LOWER': 'act'},\n",
       "   {'LOWER': 'as'},\n",
       "   {'OP': '*'},\n",
       "   {'POS': 'NOUN'}]},\n",
       " {'label': 'CLUE',\n",
       "  'on_match': [{'TRUNCR': 0}, {'TRUNCL': 2}],\n",
       "  'pattern': [{'LOWER': 'ability'},\n",
       "   {'LOWER': 'to'},\n",
       "   {'OP': '*'},\n",
       "   {'DEP': 'dobj'}]}]"
      ]
     },
     "execution_count": 62,
     "metadata": {},
     "output_type": "execute_result"
    }
   ],
   "source": [
    "import json\n",
    "jsonl_content = '''{\"label\":\"SOFT SKILL 1\",\"on_match\": \"None\", \"pattern\": [{\"LEMMA\":\"decision\"},{\"OP\":\"*\"},{\"LEMMA\":\"make\"}]}\n",
    "{\"label\":\"SOFT SKILL 2\",\"on_match\": \"None\", \"pattern\": [{\"LEMMA\":\"make\"},{\"OP\":\"*\"},{\"LEMMA\":\"decision\"}]}\n",
    "{\"label\":\"SOFT SKILL 3\",\"on_match\": \"None\", \"pattern\": [{\"LEMMA\":\"solve\"},{\"OP\":\"*\"},{\"DEP\":\"dobj\"}]}\n",
    "{\"label\":\"SOFT SKILL 4\",\"on_match\": \"None\", \"pattern\": [{\"LEMMA\":\"problem\"},{\"OP\":\"*\"},{\"LEMMA\":\"solve\"}]}\n",
    "{\"label\":\"SOFT SKILL 5\",\"on_match\": \"None\", \"pattern\": [{\"TEXT\": {\"REGEX\": \"judge\"}}]}\n",
    "{\"label\":\"SOFT SKILL 6\",\"on_match\": \"None\", \"pattern\": [{\"TEXT\": {\"REGEX\": \"originality\"}}]}\n",
    "{\"label\":\"SOFT SKILL 7\",\"on_match\": \"None\", \"pattern\": [{\"LEMMA\":\"active\"},{\"OP\":\"*\"},{\"TEXT\":{\"REGEX\":\"ing$\"}}]}\n",
    "{\"label\":\"SOFT SKILL 8\",\"on_match\": \"None\", \"pattern\": [{\"TEXT\":{\"REGEX\":\"learn\"}},{\"TEXT\":{\"REGEX\":\".*?\"}, \"IS_LOWER\": true},{\"TEXT\":{\"REGEX\":\"active\"}}]}\n",
    "{\"label\":\"SOFT SKILL 9\",\"on_match\": \"None\", \"pattern\": [{\"POS\":\"ADJ\"},{\"TEXT\":{\"REGEX\":\"think|thinking\"}}]}\n",
    "{\"label\":\"SOFT SKILL 10\",\"on_match\": \"None\", \"pattern\": [{\"POS\":{\"REGEX\": \"ADJ|NOUN|VERB\"}},{\"LEMMA\":\"comprehension\"}]}\n",
    "{\"label\":\"SOFT SKILL 11\",\"on_match\": \"None\", \"pattern\": [{\"POS\":\"ADJ\",\"OP\":\"?\"},{\"LOWER\":\"reasoning\"}]}\n",
    "{\"label\":\"SOFT SKILL 12\",\"on_match\": \"None\", \"pattern\": [{\"LEMMA\":{\"IN\":[\"write\",\"oral\",\"read\"]}},{\"LEMMA\":\"expression\"}]}\n",
    "{\"label\":\"SOFT SKILL 13\",\"on_match\": \"None\", \"pattern\": [{\"LEMMA\":\"cope\"},{\"OP\":\"*\"},{\"POS\":\"NOUN\"},{\"LOWER\":\"and\",\"OP\":\"?\"},{\"POS\":\"NOUN\",\"OP\":\"?\"}]}\n",
    "{\"label\":\"SOFT SKILL 14\",\"on_match\": \"None\", \"pattern\": [{\"LEMMA\":\"team\",\"DEP\":\"compound\"},{\"TEXT\":{\"REGEX\":\".*?\"},\"OP\":\"?\"},{\"DEP\":\"conj\"}]}\n",
    "{\"label\":\"SOFT SKILL 15\",\"on_match\": \"None\", \"pattern\": [{\"DEP\":\"conj\"},{\"TEXT\":{\"REGEX\":\".*?\"},\"OP\":\"?\"},{\"LEMMA\":\"team\",\"DEP\":\"dobj\"}]}\n",
    "{\"label\":\"SOFT SKILL 16\",\"on_match\": \"None\", \"pattern\": [{\"LEMMA\":\"work\"},{\"POS\":\"ADV\"}]}\n",
    "{\"label\":\"SOFT SKILL 17\",\"on_match\": \"None\", \"pattern\": [{\"LEMMA\":\"work\"},{\"OP\":\"*\"},{\"DEP\":\"pobj\"}]}\n",
    "{\"label\":\"SOFT SKILL 18\",\"on_match\": \"None\", \"pattern\": [{\"DEP\":{\"REGEX\":\"amod|compound\"}},{\"OP\":\"*\"},{\"LEMMA\":{\"REGEX\":\"think|thinking\"}}]}\n",
    "{\"label\":\"SOFT SKILL 19\",\"on_match\": \"None\", \"pattern\": [{\"TAG\":{\"REGEX\":\"VB\"}},{\"OP\":\"*\"},{\"LEMMA\":{\"REGEX\":\" relation\"}}]}\n",
    "{\"label\":\"SOFT SKILL 20\",\"on_match\": \"None\", \"pattern\": [{\"DEP\":\"amod\"},{\"LEMMA\":{\"REGEX\":\" relation\"}}]}\n",
    "{\"label\":\"SOFT SKILL 21\",\"on_match\": \"None\", \"pattern\": [{\"LOWER\":\"act\"},{\"LOWER\":\"as\"},{\"OP\":\"*\"},{\"POS\":\"NOUN\"}]}\n",
    "{\"label\":\"CLUE\",\"on_match\": [{\"TRUNCR\":0},{\"TRUNCL\":2}], \"pattern\": [{\"LOWER\":\"ability\"},{\"LOWER\":\"to\"},{\"OP\":\"*\"},{\"DEP\":\"dobj\"}]}'''\n",
    "\n",
    "result = [json.loads(jline) for jline in jsonl_content.split('\\n')]\n",
    "result"
   ]
  }
 ],
 "metadata": {
  "kernelspec": {
   "display_name": "spacy_env",
   "language": "python",
   "name": "spacy_env"
  },
  "language_info": {
   "codemirror_mode": {
    "name": "ipython",
    "version": 3
   },
   "file_extension": ".py",
   "mimetype": "text/x-python",
   "name": "python",
   "nbconvert_exporter": "python",
   "pygments_lexer": "ipython3",
   "version": "3.6.4"
  },
  "toc": {
   "base_numbering": 1,
   "nav_menu": {},
   "number_sections": true,
   "sideBar": true,
   "skip_h1_title": false,
   "title_cell": "Table of Contents",
   "title_sidebar": "Contents",
   "toc_cell": true,
   "toc_position": {},
   "toc_section_display": true,
   "toc_window_display": false
  },
  "varInspector": {
   "cols": {
    "lenName": 16,
    "lenType": 16,
    "lenVar": 40
   },
   "kernels_config": {
    "python": {
     "delete_cmd_postfix": "",
     "delete_cmd_prefix": "del ",
     "library": "var_list.py",
     "varRefreshCmd": "print(var_dic_list())"
    },
    "r": {
     "delete_cmd_postfix": ") ",
     "delete_cmd_prefix": "rm(",
     "library": "var_list.r",
     "varRefreshCmd": "cat(var_dic_list()) "
    }
   },
   "types_to_exclude": [
    "module",
    "function",
    "builtin_function_or_method",
    "instance",
    "_Feature"
   ],
   "window_display": false
  }
 },
 "nbformat": 4,
 "nbformat_minor": 2
}
